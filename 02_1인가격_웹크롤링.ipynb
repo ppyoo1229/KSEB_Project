{
 "cells": [
  {
   "cell_type": "markdown",
   "id": "fec623a7-0a4a-4664-8e49-d9103da9cbe4",
   "metadata": {},
   "source": [
    "# # Part2. 웹 크롤링으로 업소별 1인분 평균가격 불러오기\n",
    "- 네이버 지도에 상호명을 검색했을때 나오는 메뉴와 가격을 크롤링해 가게별 평균 소비가를 계산하려고함\n",
    "- 메뉴 가격 크롤링 (Selenium)과 배치 크롤링 코드 파일 따로 생성 후 커맨드창으로 크롤링 돌리겠음\r\n",
    "- 네이버 지도 iframe 구조 분하기석\r\n",
    "- 메뉴 사진/텍스트 존재 여부에 따른 분기 , 예외처리 포함처리\r",
    "메뉴 수 0인 가게 → 업종별 평균가로 대체 예정\n",
    "- 엽떡, 치킨같이 여러명이서 먹어야만 하는 업소 메뉴는 총메뉴가격/메뉴수로 했을 때 1인당 소비가격이 엽떡 한그릇 가격, 치킨한마리 가격으로 잡힘\n",
    "- 이러한 메뉴들 업소 분류에서 분류해 놓아야 했었음 나누는 방식 차별점 혹은 평균가격 다른 측정 필요 (팀원들과 논의 필요)체`) 포함"
   ]
  },
  {
   "cell_type": "markdown",
   "id": "72e97cf6-eb3d-47fc-ae4c-1a0c512542f2",
   "metadata": {},
   "source": [
    "# # 셀레니움(selenium)\n",
    "- 크롤링이나 테스트 자동화에 쓰이는 패키지(라이브러리)\n",
    "- 브라우저 열기, 페이지 이동, 요소 찾기, 버튼 클릭, 키 입력 등에 사용"
   ]
  },
  {
   "cell_type": "markdown",
   "id": "be03eefd-7f1a-4dcb-94e9-70fa7433d37e",
   "metadata": {},
   "source": [
    "## 1) inha_crawling_util.py\n",
    "- 네이버 지도에서 가게 상호명을 검색하여 메뉴 이름과 가격을 크롤링하는 함수"
   ]
  },
  {
   "cell_type": "markdown",
   "id": "d1a9ddc4-545b-408e-87e3-af558e8c211d",
   "metadata": {},
   "source": [
    "### 1. 라이브러리 불러오기"
   ]
  },
  {
   "cell_type": "code",
   "execution_count": null,
   "id": "8f14ab9b-4f3a-4aa4-88d5-2f27ccdccfa3",
   "metadata": {},
   "outputs": [],
   "source": [
    "import time\n",
    "from selenium.webdriver.common.by import By\n",
    "from selenium.webdriver.common.keys import Keys\n",
    "from selenium.webdriver.support.ui import WebDriverWait\n",
    "from selenium.webdriver.support import expected_conditions as EC\n",
    "from selenium.common.exceptions import TimeoutException\n",
    "\n",
    "# time : 코드 실행을 잠깐 멈춤 (sleep)\n",
    "# Keys : 키보드 입력 흉내냄 (ENTER, TAB 등)\n",
    "# WebDriverWait : 요소가 나타날 때까지 기다리는 기능\n",
    "# EC (expected_conditions) : 어떤 조건을 만족하면 다음으로 넘어감\n",
    "# TimeoutException : 시간 초과 에러 처리용"
   ]
  },
  {
   "cell_type": "markdown",
   "id": "f17e19cc-693b-4002-9ce3-ae73750c97f2",
   "metadata": {},
   "source": [
    "- store_name: 검색할 가게 이름\n",
    "- driver: Selenium의 Chrome WebDriver 객체\n",
    "- 결과를 저장할 딕셔너리 초기화: 메뉴 정보는 리스트로 (메뉴명, 가격) 형식의 튜플로 저장"
   ]
  },
  {
   "cell_type": "code",
   "execution_count": null,
   "id": "560c89e7-67ed-4d36-8251-4fc443f3bf18",
   "metadata": {},
   "outputs": [],
   "source": [
    "def crawling_get_menus(store_name, driver):\n",
    "   menu_data = {\n",
    "        \"place_name\": store_name,\n",
    "        \"menu\": []\n",
    "    }"
   ]
  },
  {
   "cell_type": "markdown",
   "id": "f32ea6cd-b6d8-4d07-8133-8ffc6e3ca2e5",
   "metadata": {},
   "source": [
    "### 2. 네이버 지도에서 가게명 검색\n",
    "- 네이버 지도 검색 페이지에 접속해서 가게 이름으로 검색\n",
    "- 페이지가 SPA(싱글 페이지 애플리케이션)이라 로딩을 기다리기 위해 time.sleep 사용\n",
    "- 만약, 네이버 지도의 구조가 바뀌면 CSS 선택자나 iframe 구조도 같이 수정해야 작동함"
   ]
  },
  {
   "cell_type": "code",
   "execution_count": null,
   "id": "5c047173-808f-4763-855c-dda934ca49be",
   "metadata": {},
   "outputs": [],
   "source": [
    "    driver.get(\"https://map.naver.com/v5/search/\" + store_name)\n",
    "    time.sleep(2.5)  # 페이지 로딩 대기"
   ]
  },
  {
   "cell_type": "markdown",
   "id": "a5b8c984-b8de-4055-9b75-50623365a346",
   "metadata": {},
   "source": [
    "### 2. 검색 결과 iframe으로 진입\n",
    "- 네이버 지도는 검색 결과를 iframe에 표시함\n",
    "- searchIframe이 로딩될 때까지 기다렸다가 진입"
   ]
  },
  {
   "cell_type": "code",
   "execution_count": null,
   "id": "2f83efff-f2b3-4431-9597-ce35ad0e7fe7",
   "metadata": {},
   "outputs": [],
   "source": [
    "    try:\n",
    "        WebDriverWait(driver, 2).until(\n",
    "            EC.frame_to_be_available_and_switch_to_it((By.ID, \"searchIframe\"))\n",
    "        )\n",
    "    except TimeoutException:\n",
    "        print(\"searchIframe 로딩 실패\")\n",
    "        return menu_data"
   ]
  },
  {
   "cell_type": "markdown",
   "id": "e921b457-26cd-46bf-9043-e6c7a638b419",
   "metadata": {},
   "source": [
    "### 3. 검색 결과 리스트 로딩 대기\n",
    "-  검색 결과들이 나오는 리스트(ul 태그)가 완전히 로딩될 때까지 대기"
   ]
  },
  {
   "cell_type": "code",
   "execution_count": null,
   "id": "ca005acd-70d4-4dcf-93e5-df9a539781e1",
   "metadata": {},
   "outputs": [],
   "source": [
    "    try:\n",
    "        container = WebDriverWait(driver, 2).until(\n",
    "            EC.presence_of_element_located((By.XPATH, '//*[@id=\"_pcmap_list_scroll_container\"]/ul'))\n",
    "        )\n",
    "    except TimeoutException:\n",
    "        print(\"검색 리스트 컨테이너 로딩 실패\")\n",
    "        return menu_data"
   ]
  },
  {
   "cell_type": "markdown",
   "id": "19efb957-fbe0-4378-a456-4d4e60a6886a",
   "metadata": {},
   "source": [
    "### 4. 검색 결과 첫 번째 클릭\n",
    "- 검색 결과 중 첫 번째 가게 클릭 (상세 페이지 이동)\n",
    "- 일부 결과는 이미지(썸네일)용 a 태그일 수도 있어서, \"place_thumb\" 클래스 체크 후 적절한 버튼 선택"
   ]
  },
  {
   "cell_type": "code",
   "execution_count": null,
   "id": "6b9ebb84-8897-4dc6-bba8-a6739395c6c0",
   "metadata": {},
   "outputs": [],
   "source": [
    "    buttons = container.find_elements(By.TAG_NAME, 'a')\n",
    "    if not buttons:\n",
    "        print(\"검색 결과 없음\")\n",
    "        return menu_data\n",
    "# 썸네일(a)일 경우 두 번째 버튼 클릭\n",
    "    first_btn_class = buttons[0].get_attribute(\"class\")\n",
    "    if \"place_thumb\" in first_btn_class and len(buttons) > 1:\n",
    "        buttons[1].send_keys(Keys.ENTER) # 엔터키 입력으로 첫 번째 검색 결과를 클릭\n",
    "    else:\n",
    "        buttons[0].send_keys(Keys.ENTER)"
   ]
  },
  {
   "cell_type": "markdown",
   "id": "eb573e76-a7e8-4eb9-98b8-d80781ec936a",
   "metadata": {},
   "source": [
    "### 5. 상세 페이지 iframe으로 전환\n",
    "- 검색 결과를 클릭하면 페이지가 바뀌고, 또 다른 iframe(entryIframe)으로 전환됨\n",
    "- 이 iframe 안에서 메뉴 정보를 찾을 수 있음............................"
   ]
  },
  {
   "cell_type": "code",
   "execution_count": null,
   "id": "40bc57c0-7da9-47e8-b7eb-44540977726c",
   "metadata": {},
   "outputs": [],
   "source": [
    "    driver.switch_to.default_content()\n",
    "    try:\n",
    "        entry_iframe = WebDriverWait(driver, 3).until(\n",
    "            EC.presence_of_element_located((By.ID, \"entryIframe\"))\n",
    "        )\n",
    "        driver.switch_to.frame(entry_iframe)\n",
    "    except TimeoutException:\n",
    "        print(\"entryIframe 로딩 실패\")\n",
    "        return menu_data"
   ]
  },
  {
   "cell_type": "markdown",
   "id": "476b19d7-f577-45b9-8123-85a47dba63d5",
   "metadata": {},
   "source": [
    "### 6. 메뉴 섹션 로딩 유도 (스크롤)\n",
    "- 메뉴 섹션이 스크롤을 내려야 보이기 때문에, 자바스크립트를 이용해 강제로 내림\n",
    "- place_section Sv9Ys 클래스를 가진 메뉴 영역 로딩 대기"
   ]
  },
  {
   "cell_type": "code",
   "execution_count": null,
   "id": "e766a2c2-a89f-4eb2-a5b4-28a527bcb590",
   "metadata": {},
   "outputs": [],
   "source": [
    "    driver.execute_script(\"window.scrollTo(0, 700)\")\n",
    "    try:\n",
    "        WebDriverWait(driver, 2).until(\n",
    "            EC.presence_of_element_located((By.CSS_SELECTOR, \"div.place_section.Sv9Ys\"))\n",
    "        )\n",
    "    except TimeoutException:\n",
    "        print(\"메뉴 섹션 로딩 실패\")\n",
    "        return menu_data"
   ]
  },
  {
   "cell_type": "markdown",
   "id": "63705b9c-ac68-45b3-8354-68fc321d982d",
   "metadata": {},
   "source": [
    "### 7. 사진 포함 메뉴 (ul.t1osG > li.ipNNM)\n",
    "- 사진이 있는 메뉴는 ul.t1osG > li.ipNNM 구조로 되어 있음\n",
    "- 각 메뉴 항목에서 메뉴 이름 (span.VQvNX)과 가격 (div.gl2cc)을 추출"
   ]
  },
  {
   "cell_type": "code",
   "execution_count": null,
   "id": "e0739017-4a1b-4413-b266-bf25f92bfaf7",
   "metadata": {},
   "outputs": [],
   "source": [
    "    photo_menu_list = driver.find_elements(By.CSS_SELECTOR, \"ul.t1osG\")\n",
    "    if photo_menu_list:\n",
    "        li_elements = photo_menu_list[0].find_elements(By.CSS_SELECTOR, \"li.ipNNM\")\n",
    "        for li in li_elements:\n",
    "            menu_name = li.find_element(By.CSS_SELECTOR, \"span.VQvNX\").text\n",
    "            menu_price = li.find_element(By.CSS_SELECTOR, \"div.gl2cc\").text\n",
    "            menu_data[\"menu\"].append((menu_name, menu_price))\n",
    "        return menu_data"
   ]
  },
  {
   "cell_type": "markdown",
   "id": "28561364-4ecd-4802-8923-51bb6b8ea4b6",
   "metadata": {},
   "source": [
    "### 8. 사진 없는 텍스트 메뉴 (ul.jnwQZ > li.gHmZ_)\n",
    "- 사진 없이 텍스트로만 구성된 메뉴는 ul.jnwQZ > li.gHmZ_ 구조\n",
    "- 메뉴명: div.ds3HZ a, 가격: div.mkBm3\n",
    "- 사진 메뉴도 텍스트 메뉴도 없는 경우는 메뉴 정보가 없는 것으로 간주"
   ]
  },
  {
   "cell_type": "code",
   "execution_count": null,
   "id": "f0b02038-f393-4110-b48b-38293cebd744",
   "metadata": {},
   "outputs": [],
   "source": [
    "    text_menu_list = driver.find_elements(By.CSS_SELECTOR, \"ul.jnwQZ\")\n",
    "    if text_menu_list:\n",
    "        li_elements = text_menu_list[0].find_elements(By.CSS_SELECTOR, \"li.gHmZ_\")\n",
    "        for li in li_elements:\n",
    "            menu_name = li.find_element(By.CSS_SELECTOR, \"div.ds3HZ a\").text\n",
    "            menu_price = li.find_element(By.CSS_SELECTOR, \"div.mkBm3\").text\n",
    "            menu_data[\"menu\"].append((menu_name, menu_price))\n",
    "        return menu_data\n",
    "\n",
    "    # 9. 메뉴 정보가 없을 경우\n",
    "    print(\"메뉴 정보 없음\")\n",
    "    return menu_data"
   ]
  },
  {
   "cell_type": "markdown",
   "id": "a7512357-4263-4712-9d67-cb202344c013",
   "metadata": {},
   "source": [
    "## 2) inha_batch_crawler.py\n",
    "- 배치 처리 루프 코드"
   ]
  },
  {
   "cell_type": "markdown",
   "id": "d8d13d78-c21a-435b-a2b1-f1b934e4832f",
   "metadata": {},
   "source": [
    "### 1. 라이브러리 불러오기"
   ]
  },
  {
   "cell_type": "code",
   "execution_count": null,
   "id": "8bad310e-e423-49c8-bc0e-ecf7a9f70356",
   "metadata": {},
   "outputs": [],
   "source": [
    "import pandas as pd\n",
    "import time # 여기서는 사용 안 되긴 함\n",
    "import os # 디렉토리 생성, 파일 경로 처리용\n",
    "from selenium import webdriver # 브라우저 조작 도구\n",
    "from selenium.webdriver.chrome.options import Options # 크롬 설정\n",
    "from inha_crawling_util import crawling_get_menus  # 만든 크롤링 함수 import"
   ]
  },
  {
   "cell_type": "markdown",
   "id": "212e95b5-9942-4044-9aee-06ebabaea1cb",
   "metadata": {},
   "source": [
    "### 2. headless 모드로 크롬 드라이버 설정\n",
    "- headless 모드: 브라우저를 눈에 안 띄게 백그라운드에서 실행\n",
    "- webdriver.Chrome(options=...) : 이 설정을 적용한 크롬 드라이버 실행"
   ]
  },
  {
   "cell_type": "code",
   "execution_count": null,
   "id": "f91f364a-806b-4ad5-bb6a-48dce2fc536f",
   "metadata": {},
   "outputs": [],
   "source": [
    "options = Options()\n",
    "options.add_argument(\"--headless\") # 창 안 띄우는 모드\n",
    "options.add_argument(\"--disable-gpu\")  # GPU 끔\n",
    "driver = webdriver.Chrome(options=options)"
   ]
  },
  {
   "cell_type": "markdown",
   "id": "ea5e55a3-53f9-4e89-b0bb-65a6e2cb6d27",
   "metadata": {},
   "source": [
    "### 3. 상호명 리스트 불러오기"
   ]
  },
  {
   "cell_type": "code",
   "execution_count": null,
   "id": "37133bde-82b3-487e-8b70-87488dfb7715",
   "metadata": {},
   "outputs": [],
   "source": [
    "df = pd.read_csv(\"C:/Users/sj123/KSEB_Project/KSEB_Project_output/inha_restaurant_FE.csv\", encoding=\"utf-8-sig\")\n",
    "store_names = df[\"상호명\"].tolist()\n",
    "results = []"
   ]
  },
  {
   "cell_type": "markdown",
   "id": "e56848b2-717b-4124-afed-9c118b338582",
   "metadata": {},
   "source": [
    "### 4. 크롤링 루프"
   ]
  },
  {
   "cell_type": "code",
   "execution_count": null,
   "id": "21a71f24-8d60-4577-918e-199d7c50a180",
   "metadata": {},
   "outputs": [],
   "source": [
    "for name in store_names:\n",
    "    print(f\"크롤링 중: {name}\") "
   ]
  },
  {
   "cell_type": "markdown",
   "id": "ef124271-d192-4022-b537-1f4527d5f1d7",
   "metadata": {},
   "source": [
    "### 5. 메뉴 데이터 가져와서 평균 계산하기\n",
    "- 메뉴 리스트에서 가격을 꺼내 숫자(int)로 바꾸기 : \"4,500원\" → 4500"
   ]
  },
  {
   "cell_type": "code",
   "execution_count": null,
   "id": "0da47dc1-0155-481a-aee5-7282105406c3",
   "metadata": {},
   "outputs": [],
   "source": [
    "    try:\n",
    "        data = crawling_get_menus(name, driver) # 메뉴 정보 크롤링\n",
    "        prices = []\n",
    "        for menu_name, price in data[\"menu\"]:\n",
    "            try:\n",
    "                num = int(price.replace(\",\", \"\").replace(\"원\", \"\").strip())\n",
    "                prices.append(num)\n",
    "            except:\n",
    "                continue\n",
    "\n",
    "        \n",
    "        avg_price = sum(prices) // len(prices) if prices else None # 평균 계산"
   ]
  },
  {
   "cell_type": "markdown",
   "id": "62c3204d-c9de-443e-a3c5-a52262d18533",
   "metadata": {},
   "source": [
    "### 6. 결과 저장 리스트에 추가\n",
    "- 각 가게마다 {상호명, 평균가격, 메뉴 수} 형태로 저장"
   ]
  },
  {
   "cell_type": "code",
   "execution_count": null,
   "id": "68b4ea0d-04df-4605-ab3a-8ea856fd3c0c",
   "metadata": {},
   "outputs": [],
   "source": [
    "        results.append({\n",
    "            \"상호명\": name,\n",
    "            \"1인 평균 가격\": avg_price,\n",
    "            \"메뉴 수\": len(prices)\n",
    "        })"
   ]
  },
  {
   "cell_type": "markdown",
   "id": "998a953b-648f-4df1-afb6-a82cd296417b",
   "metadata": {},
   "source": [
    "### 7. 에러 발생 시 처리\n",
    "- 크롤링 실패해도 멈추지 않도록 try-except로 감싸서 예외 처리"
   ]
  },
  {
   "cell_type": "code",
   "execution_count": null,
   "id": "7365a24f-d505-4586-8fbc-56a422613b8b",
   "metadata": {},
   "outputs": [],
   "source": [
    "    except Exception as e:\n",
    "        print(f\"{name} 처리 중 오류 발생: {e}\")\n",
    "        results.append({\n",
    "            \"상호명\": name,\n",
    "            \"1인 평균 가격\": None,\n",
    "            \"메뉴 수\": 0\n",
    "        })"
   ]
  },
  {
   "cell_type": "markdown",
   "id": "12ae6b38-ca74-4fd9-b0cc-86dcf9651946",
   "metadata": {},
   "source": [
    "### 8. 결과 CSV로 저장\n",
    "- 결과 리스트 - DataFrame으로 변환\n",
    "- 일단 CSV 파일로 저장 후 확인 예정"
   ]
  },
  {
   "cell_type": "code",
   "execution_count": null,
   "id": "03cb622c-dc09-49ec-8688-e6591298bc46",
   "metadata": {},
   "outputs": [],
   "source": [
    "os.makedirs(\"KSEB_Project_output\", exist_ok=True)\n",
    "pd.DataFrame(results).to_csv(\"KSEB_Project_output/inha_result_final.csv\", index=False, encoding=\"utf-8-sig\")\n",
    "driver.quit() # 크롬 드라이버 종료\n",
    "print(\"크롤링 완료 및 저장\")"
   ]
  },
  {
   "cell_type": "markdown",
   "id": "b77bb76e-08a1-4102-adc9-51a717b29230",
   "metadata": {},
   "source": [
    "## 3) 커맨드창 파이썬 폴더에서 코드 실행"
   ]
  },
  {
   "cell_type": "code",
   "execution_count": null,
   "id": "c82121a9-7f84-4b60-b34e-ab567c2f53e6",
   "metadata": {},
   "outputs": [],
   "source": [
    "python inha_batch_crawler.py"
   ]
  }
 ],
 "metadata": {
  "kernelspec": {
   "display_name": "Python 3 (ipykernel)",
   "language": "python",
   "name": "python3"
  },
  "language_info": {
   "codemirror_mode": {
    "name": "ipython",
    "version": 3
   },
   "file_extension": ".py",
   "mimetype": "text/x-python",
   "name": "python",
   "nbconvert_exporter": "python",
   "pygments_lexer": "ipython3",
   "version": "3.11.7"
  }
 },
 "nbformat": 4,
 "nbformat_minor": 5
}
